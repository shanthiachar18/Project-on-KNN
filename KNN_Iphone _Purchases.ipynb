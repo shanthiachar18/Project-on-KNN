{
 "cells": [
  {
   "cell_type": "code",
   "execution_count": 37,
   "id": "67f3cf74",
   "metadata": {},
   "outputs": [],
   "source": [
    "## importing libraries\n",
    "import pandas as pd\n",
    "import numpy as np\n",
    "import matplotlib.pyplot as plt\n",
    "import seaborn as sns\n",
    "import os\n",
    "from sklearn.neighbors import KNeighborsClassifier\n",
    "from sklearn.metrics import r2_score\n",
    "import sklearn.neighbors as sn\n",
    "import sklearn.metrics as sm"
   ]
  },
  {
   "cell_type": "code",
   "execution_count": 40,
   "id": "25dc9aad",
   "metadata": {},
   "outputs": [],
   "source": [
    "import warnings\n",
    "warnings.filterwarnings('ignore') "
   ]
  },
  {
   "cell_type": "code",
   "execution_count": 6,
   "id": "db67ba7d",
   "metadata": {},
   "outputs": [
    {
     "data": {
      "text/html": [
       "<div>\n",
       "<style scoped>\n",
       "    .dataframe tbody tr th:only-of-type {\n",
       "        vertical-align: middle;\n",
       "    }\n",
       "\n",
       "    .dataframe tbody tr th {\n",
       "        vertical-align: top;\n",
       "    }\n",
       "\n",
       "    .dataframe thead th {\n",
       "        text-align: right;\n",
       "    }\n",
       "</style>\n",
       "<table border=\"1\" class=\"dataframe\">\n",
       "  <thead>\n",
       "    <tr style=\"text-align: right;\">\n",
       "      <th></th>\n",
       "      <th>Gender</th>\n",
       "      <th>Age</th>\n",
       "      <th>Salary</th>\n",
       "      <th>Purchase Iphone</th>\n",
       "    </tr>\n",
       "  </thead>\n",
       "  <tbody>\n",
       "    <tr>\n",
       "      <th>0</th>\n",
       "      <td>Male</td>\n",
       "      <td>19</td>\n",
       "      <td>19000</td>\n",
       "      <td>0</td>\n",
       "    </tr>\n",
       "    <tr>\n",
       "      <th>1</th>\n",
       "      <td>Male</td>\n",
       "      <td>35</td>\n",
       "      <td>20000</td>\n",
       "      <td>0</td>\n",
       "    </tr>\n",
       "    <tr>\n",
       "      <th>2</th>\n",
       "      <td>Female</td>\n",
       "      <td>26</td>\n",
       "      <td>43000</td>\n",
       "      <td>0</td>\n",
       "    </tr>\n",
       "    <tr>\n",
       "      <th>3</th>\n",
       "      <td>Female</td>\n",
       "      <td>27</td>\n",
       "      <td>57000</td>\n",
       "      <td>0</td>\n",
       "    </tr>\n",
       "    <tr>\n",
       "      <th>4</th>\n",
       "      <td>Male</td>\n",
       "      <td>19</td>\n",
       "      <td>76000</td>\n",
       "      <td>0</td>\n",
       "    </tr>\n",
       "  </tbody>\n",
       "</table>\n",
       "</div>"
      ],
      "text/plain": [
       "   Gender  Age  Salary  Purchase Iphone\n",
       "0    Male   19   19000                0\n",
       "1    Male   35   20000                0\n",
       "2  Female   26   43000                0\n",
       "3  Female   27   57000                0\n",
       "4    Male   19   76000                0"
      ]
     },
     "execution_count": 6,
     "metadata": {},
     "output_type": "execute_result"
    }
   ],
   "source": [
    "## loading the data\n",
    "data = pd.read_csv(\"iphone_purchase_records.csv\")\n",
    "data.head()"
   ]
  },
  {
   "cell_type": "code",
   "execution_count": 7,
   "id": "8c78cde6",
   "metadata": {},
   "outputs": [
    {
     "data": {
      "text/html": [
       "<div>\n",
       "<style scoped>\n",
       "    .dataframe tbody tr th:only-of-type {\n",
       "        vertical-align: middle;\n",
       "    }\n",
       "\n",
       "    .dataframe tbody tr th {\n",
       "        vertical-align: top;\n",
       "    }\n",
       "\n",
       "    .dataframe thead th {\n",
       "        text-align: right;\n",
       "    }\n",
       "</style>\n",
       "<table border=\"1\" class=\"dataframe\">\n",
       "  <thead>\n",
       "    <tr style=\"text-align: right;\">\n",
       "      <th></th>\n",
       "      <th>Gender</th>\n",
       "      <th>Age</th>\n",
       "      <th>Salary</th>\n",
       "      <th>Purchase Iphone</th>\n",
       "    </tr>\n",
       "  </thead>\n",
       "  <tbody>\n",
       "    <tr>\n",
       "      <th>0</th>\n",
       "      <td>Male</td>\n",
       "      <td>19</td>\n",
       "      <td>19000</td>\n",
       "      <td>0</td>\n",
       "    </tr>\n",
       "    <tr>\n",
       "      <th>1</th>\n",
       "      <td>Male</td>\n",
       "      <td>35</td>\n",
       "      <td>20000</td>\n",
       "      <td>0</td>\n",
       "    </tr>\n",
       "    <tr>\n",
       "      <th>2</th>\n",
       "      <td>Female</td>\n",
       "      <td>26</td>\n",
       "      <td>43000</td>\n",
       "      <td>0</td>\n",
       "    </tr>\n",
       "    <tr>\n",
       "      <th>3</th>\n",
       "      <td>Female</td>\n",
       "      <td>27</td>\n",
       "      <td>57000</td>\n",
       "      <td>0</td>\n",
       "    </tr>\n",
       "    <tr>\n",
       "      <th>4</th>\n",
       "      <td>Male</td>\n",
       "      <td>19</td>\n",
       "      <td>76000</td>\n",
       "      <td>0</td>\n",
       "    </tr>\n",
       "    <tr>\n",
       "      <th>...</th>\n",
       "      <td>...</td>\n",
       "      <td>...</td>\n",
       "      <td>...</td>\n",
       "      <td>...</td>\n",
       "    </tr>\n",
       "    <tr>\n",
       "      <th>395</th>\n",
       "      <td>Female</td>\n",
       "      <td>46</td>\n",
       "      <td>41000</td>\n",
       "      <td>1</td>\n",
       "    </tr>\n",
       "    <tr>\n",
       "      <th>396</th>\n",
       "      <td>Male</td>\n",
       "      <td>51</td>\n",
       "      <td>23000</td>\n",
       "      <td>1</td>\n",
       "    </tr>\n",
       "    <tr>\n",
       "      <th>397</th>\n",
       "      <td>Female</td>\n",
       "      <td>50</td>\n",
       "      <td>20000</td>\n",
       "      <td>1</td>\n",
       "    </tr>\n",
       "    <tr>\n",
       "      <th>398</th>\n",
       "      <td>Male</td>\n",
       "      <td>36</td>\n",
       "      <td>33000</td>\n",
       "      <td>0</td>\n",
       "    </tr>\n",
       "    <tr>\n",
       "      <th>399</th>\n",
       "      <td>Female</td>\n",
       "      <td>49</td>\n",
       "      <td>36000</td>\n",
       "      <td>1</td>\n",
       "    </tr>\n",
       "  </tbody>\n",
       "</table>\n",
       "<p>400 rows × 4 columns</p>\n",
       "</div>"
      ],
      "text/plain": [
       "     Gender  Age  Salary  Purchase Iphone\n",
       "0      Male   19   19000                0\n",
       "1      Male   35   20000                0\n",
       "2    Female   26   43000                0\n",
       "3    Female   27   57000                0\n",
       "4      Male   19   76000                0\n",
       "..      ...  ...     ...              ...\n",
       "395  Female   46   41000                1\n",
       "396    Male   51   23000                1\n",
       "397  Female   50   20000                1\n",
       "398    Male   36   33000                0\n",
       "399  Female   49   36000                1\n",
       "\n",
       "[400 rows x 4 columns]"
      ]
     },
     "execution_count": 7,
     "metadata": {},
     "output_type": "execute_result"
    }
   ],
   "source": [
    "## copying the data\n",
    "data = data.copy()\n",
    "data"
   ]
  },
  {
   "cell_type": "code",
   "execution_count": 4,
   "id": "7aaf7641",
   "metadata": {},
   "outputs": [
    {
     "data": {
      "text/plain": [
       "Gender             0\n",
       "Age                0\n",
       "Salary             0\n",
       "Purchase Iphone    0\n",
       "dtype: int64"
      ]
     },
     "execution_count": 4,
     "metadata": {},
     "output_type": "execute_result"
    }
   ],
   "source": [
    "## checking the missing values\n",
    "data.isnull().sum()"
   ]
  },
  {
   "cell_type": "code",
   "execution_count": 8,
   "id": "65748ebf",
   "metadata": {},
   "outputs": [
    {
     "data": {
      "text/html": [
       "<div>\n",
       "<style scoped>\n",
       "    .dataframe tbody tr th:only-of-type {\n",
       "        vertical-align: middle;\n",
       "    }\n",
       "\n",
       "    .dataframe tbody tr th {\n",
       "        vertical-align: top;\n",
       "    }\n",
       "\n",
       "    .dataframe thead th {\n",
       "        text-align: right;\n",
       "    }\n",
       "</style>\n",
       "<table border=\"1\" class=\"dataframe\">\n",
       "  <thead>\n",
       "    <tr style=\"text-align: right;\">\n",
       "      <th></th>\n",
       "      <th>Age</th>\n",
       "      <th>Salary</th>\n",
       "      <th>Purchase Iphone</th>\n",
       "    </tr>\n",
       "  </thead>\n",
       "  <tbody>\n",
       "    <tr>\n",
       "      <th>count</th>\n",
       "      <td>400.000000</td>\n",
       "      <td>400.000000</td>\n",
       "      <td>400.000000</td>\n",
       "    </tr>\n",
       "    <tr>\n",
       "      <th>mean</th>\n",
       "      <td>37.655000</td>\n",
       "      <td>69742.500000</td>\n",
       "      <td>0.357500</td>\n",
       "    </tr>\n",
       "    <tr>\n",
       "      <th>std</th>\n",
       "      <td>10.482877</td>\n",
       "      <td>34096.960282</td>\n",
       "      <td>0.479864</td>\n",
       "    </tr>\n",
       "    <tr>\n",
       "      <th>min</th>\n",
       "      <td>18.000000</td>\n",
       "      <td>15000.000000</td>\n",
       "      <td>0.000000</td>\n",
       "    </tr>\n",
       "    <tr>\n",
       "      <th>25%</th>\n",
       "      <td>29.750000</td>\n",
       "      <td>43000.000000</td>\n",
       "      <td>0.000000</td>\n",
       "    </tr>\n",
       "    <tr>\n",
       "      <th>50%</th>\n",
       "      <td>37.000000</td>\n",
       "      <td>70000.000000</td>\n",
       "      <td>0.000000</td>\n",
       "    </tr>\n",
       "    <tr>\n",
       "      <th>75%</th>\n",
       "      <td>46.000000</td>\n",
       "      <td>88000.000000</td>\n",
       "      <td>1.000000</td>\n",
       "    </tr>\n",
       "    <tr>\n",
       "      <th>max</th>\n",
       "      <td>60.000000</td>\n",
       "      <td>150000.000000</td>\n",
       "      <td>1.000000</td>\n",
       "    </tr>\n",
       "  </tbody>\n",
       "</table>\n",
       "</div>"
      ],
      "text/plain": [
       "              Age         Salary  Purchase Iphone\n",
       "count  400.000000     400.000000       400.000000\n",
       "mean    37.655000   69742.500000         0.357500\n",
       "std     10.482877   34096.960282         0.479864\n",
       "min     18.000000   15000.000000         0.000000\n",
       "25%     29.750000   43000.000000         0.000000\n",
       "50%     37.000000   70000.000000         0.000000\n",
       "75%     46.000000   88000.000000         1.000000\n",
       "max     60.000000  150000.000000         1.000000"
      ]
     },
     "execution_count": 8,
     "metadata": {},
     "output_type": "execute_result"
    }
   ],
   "source": [
    "data.describe()"
   ]
  },
  {
   "cell_type": "code",
   "execution_count": 9,
   "id": "c764ea02",
   "metadata": {},
   "outputs": [
    {
     "name": "stdout",
     "output_type": "stream",
     "text": [
      "<class 'pandas.core.frame.DataFrame'>\n",
      "RangeIndex: 400 entries, 0 to 399\n",
      "Data columns (total 4 columns):\n",
      " #   Column           Non-Null Count  Dtype \n",
      "---  ------           --------------  ----- \n",
      " 0   Gender           400 non-null    object\n",
      " 1   Age              400 non-null    int64 \n",
      " 2   Salary           400 non-null    int64 \n",
      " 3   Purchase Iphone  400 non-null    int64 \n",
      "dtypes: int64(3), object(1)\n",
      "memory usage: 12.6+ KB\n"
     ]
    }
   ],
   "source": [
    "data.info()"
   ]
  },
  {
   "cell_type": "code",
   "execution_count": 10,
   "id": "5ab8a30f",
   "metadata": {},
   "outputs": [
    {
     "data": {
      "text/html": [
       "<div>\n",
       "<style scoped>\n",
       "    .dataframe tbody tr th:only-of-type {\n",
       "        vertical-align: middle;\n",
       "    }\n",
       "\n",
       "    .dataframe tbody tr th {\n",
       "        vertical-align: top;\n",
       "    }\n",
       "\n",
       "    .dataframe thead th {\n",
       "        text-align: right;\n",
       "    }\n",
       "</style>\n",
       "<table border=\"1\" class=\"dataframe\">\n",
       "  <thead>\n",
       "    <tr style=\"text-align: right;\">\n",
       "      <th></th>\n",
       "      <th>Age</th>\n",
       "      <th>Salary</th>\n",
       "      <th>Purchase Iphone</th>\n",
       "    </tr>\n",
       "  </thead>\n",
       "  <tbody>\n",
       "    <tr>\n",
       "      <th>Age</th>\n",
       "      <td>1.000000</td>\n",
       "      <td>0.155238</td>\n",
       "      <td>0.622454</td>\n",
       "    </tr>\n",
       "    <tr>\n",
       "      <th>Salary</th>\n",
       "      <td>0.155238</td>\n",
       "      <td>1.000000</td>\n",
       "      <td>0.362083</td>\n",
       "    </tr>\n",
       "    <tr>\n",
       "      <th>Purchase Iphone</th>\n",
       "      <td>0.622454</td>\n",
       "      <td>0.362083</td>\n",
       "      <td>1.000000</td>\n",
       "    </tr>\n",
       "  </tbody>\n",
       "</table>\n",
       "</div>"
      ],
      "text/plain": [
       "                      Age    Salary  Purchase Iphone\n",
       "Age              1.000000  0.155238         0.622454\n",
       "Salary           0.155238  1.000000         0.362083\n",
       "Purchase Iphone  0.622454  0.362083         1.000000"
      ]
     },
     "execution_count": 10,
     "metadata": {},
     "output_type": "execute_result"
    }
   ],
   "source": [
    "data.corr()"
   ]
  },
  {
   "cell_type": "markdown",
   "id": "d851caff",
   "metadata": {},
   "source": [
    "## Exploratory Data Analysis"
   ]
  },
  {
   "cell_type": "code",
   "execution_count": 13,
   "id": "92508708",
   "metadata": {},
   "outputs": [
    {
     "data": {
      "text/plain": [
       "<AxesSubplot:>"
      ]
     },
     "execution_count": 13,
     "metadata": {},
     "output_type": "execute_result"
    },
    {
     "data": {
      "image/png": "[encoded data removed]",
      "text/plain": [
       "<Figure size 432x288 with 1 Axes>"
      ]
     },
     "metadata": {
      "needs_background": "light"
     },
     "output_type": "display_data"
    }
   ],
   "source": [
    "## checking the outliers--\n",
    "sns.boxplot(data=data)"
   ]
  },
  {
   "cell_type": "code",
   "execution_count": 14,
   "id": "08a0c08e",
   "metadata": {},
   "outputs": [
    {
     "data": {
      "text/plain": [
       "<AxesSubplot:ylabel='Age'>"
      ]
     },
     "execution_count": 14,
     "metadata": {},
     "output_type": "execute_result"
    },
    {
     "data": {
      "image/png": "[encoded data removed]",
      "text/plain": [
       "<Figure size 432x288 with 1 Axes>"
      ]
     },
     "metadata": {
      "needs_background": "light"
     },
     "output_type": "display_data"
    }
   ],
   "source": [
    "sns.boxplot(y='Age',color='orange',data=data)"
   ]
  },
  {
   "cell_type": "code",
   "execution_count": 15,
   "id": "6db79243",
   "metadata": {},
   "outputs": [
    {
     "data": {
      "text/plain": [
       "<AxesSubplot:ylabel='Salary'>"
      ]
     },
     "execution_count": 15,
     "metadata": {},
     "output_type": "execute_result"
    },
    {
     "data": {
      "image/png": "[encoded data removed]",
      "text/plain": [
       "<Figure size 432x288 with 1 Axes>"
      ]
     },
     "metadata": {
      "needs_background": "light"
     },
     "output_type": "display_data"
    }
   ],
   "source": [
    "sns.boxplot(y='Salary',color='orange',data=data)"
   ]
  },
  {
   "cell_type": "code",
   "execution_count": 16,
   "id": "d8de7a98",
   "metadata": {},
   "outputs": [
    {
     "data": {
      "text/plain": [
       "<AxesSubplot:xlabel='Gender', ylabel='Age'>"
      ]
     },
     "execution_count": 16,
     "metadata": {},
     "output_type": "execute_result"
    },
    {
     "data": {
      "image/png": "[encoded data removed]",
      "text/plain": [
       "<Figure size 432x288 with 1 Axes>"
      ]
     },
     "metadata": {
      "needs_background": "light"
     },
     "output_type": "display_data"
    }
   ],
   "source": [
    "sns.boxplot(x='Gender',y='Age',data=data)"
   ]
  },
  {
   "cell_type": "code",
   "execution_count": 17,
   "id": "4b8f7dba",
   "metadata": {},
   "outputs": [
    {
     "data": {
      "text/plain": [
       "<AxesSubplot:xlabel='Gender', ylabel='Salary'>"
      ]
     },
     "execution_count": 17,
     "metadata": {},
     "output_type": "execute_result"
    },
    {
     "data": {
      "image/png": "[encoded data removed]",
      "text/plain": [
       "<Figure size 432x288 with 1 Axes>"
      ]
     },
     "metadata": {
      "needs_background": "light"
     },
     "output_type": "display_data"
    }
   ],
   "source": [
    "sns.boxplot(x='Gender',y='Salary',data=data)"
   ]
  },
  {
   "cell_type": "code",
   "execution_count": 18,
   "id": "372a94aa",
   "metadata": {},
   "outputs": [
    {
     "data": {
      "text/plain": [
       "<seaborn.axisgrid.FacetGrid at 0x26d235d0bb0>"
      ]
     },
     "execution_count": 18,
     "metadata": {},
     "output_type": "execute_result"
    },
    {
     "data": {
      "image/png": "[encoded data removed]",
      "text/plain": [
       "<Figure size 360x360 with 1 Axes>"
      ]
     },
     "metadata": {
      "needs_background": "light"
     },
     "output_type": "display_data"
    }
   ],
   "source": [
    "sns.displot(x='Gender',data=data)"
   ]
  },
  {
   "cell_type": "code",
   "execution_count": 19,
   "id": "0f329a8b",
   "metadata": {},
   "outputs": [
    {
     "data": {
      "text/plain": [
       "<seaborn.axisgrid.FacetGrid at 0x26d235071f0>"
      ]
     },
     "execution_count": 19,
     "metadata": {},
     "output_type": "execute_result"
    },
    {
     "data": {
      "image/png": "[encoded data removed]",
      "text/plain": [
       "<Figure size 360x360 with 1 Axes>"
      ]
     },
     "metadata": {
      "needs_background": "light"
     },
     "output_type": "display_data"
    }
   ],
   "source": [
    "sns.displot(x='Age',data=data)"
   ]
  },
  {
   "cell_type": "code",
   "execution_count": 20,
   "id": "99097a6a",
   "metadata": {},
   "outputs": [
    {
     "data": {
      "text/plain": [
       "<seaborn.axisgrid.FacetGrid at 0x26d23756910>"
      ]
     },
     "execution_count": 20,
     "metadata": {},
     "output_type": "execute_result"
    },
    {
     "data": {
      "image/png": "[encoded data removed]",
      "text/plain": [
       "<Figure size 360x360 with 1 Axes>"
      ]
     },
     "metadata": {
      "needs_background": "light"
     },
     "output_type": "display_data"
    }
   ],
   "source": [
    "sns.displot(x='Salary',data=data)"
   ]
  },
  {
   "cell_type": "code",
   "execution_count": 21,
   "id": "0c072820",
   "metadata": {},
   "outputs": [
    {
     "data": {
      "text/plain": [
       "<seaborn.axisgrid.FacetGrid at 0x26d2373db80>"
      ]
     },
     "execution_count": 21,
     "metadata": {},
     "output_type": "execute_result"
    },
    {
     "data": {
      "image/png": "[encoded data removed]",
      "text/plain": [
       "<Figure size 360x360 with 1 Axes>"
      ]
     },
     "metadata": {
      "needs_background": "light"
     },
     "output_type": "display_data"
    }
   ],
   "source": [
    "sns.displot(x='Purchase Iphone',data=data)"
   ]
  },
  {
   "cell_type": "code",
   "execution_count": 22,
   "id": "7572d791",
   "metadata": {},
   "outputs": [
    {
     "data": {
      "text/plain": [
       "<AxesSubplot:>"
      ]
     },
     "execution_count": 22,
     "metadata": {},
     "output_type": "execute_result"
    },
    {
     "data": {
      "image/png": "[encoded data removed]",
      "text/plain": [
       "<Figure size 432x288 with 2 Axes>"
      ]
     },
     "metadata": {
      "needs_background": "light"
     },
     "output_type": "display_data"
    }
   ],
   "source": [
    "sns.heatmap(data.corr(),annot=True,cmap=\"coolwarm\")"
   ]
  },
  {
   "cell_type": "code",
   "execution_count": 23,
   "id": "17852d31",
   "metadata": {},
   "outputs": [
    {
     "data": {
      "text/html": [
       "<div>\n",
       "<style scoped>\n",
       "    .dataframe tbody tr th:only-of-type {\n",
       "        vertical-align: middle;\n",
       "    }\n",
       "\n",
       "    .dataframe tbody tr th {\n",
       "        vertical-align: top;\n",
       "    }\n",
       "\n",
       "    .dataframe thead th {\n",
       "        text-align: right;\n",
       "    }\n",
       "</style>\n",
       "<table border=\"1\" class=\"dataframe\">\n",
       "  <thead>\n",
       "    <tr style=\"text-align: right;\">\n",
       "      <th></th>\n",
       "      <th>Gender</th>\n",
       "      <th>Age</th>\n",
       "      <th>Salary</th>\n",
       "      <th>Purchase Iphone</th>\n",
       "    </tr>\n",
       "  </thead>\n",
       "  <tbody>\n",
       "    <tr>\n",
       "      <th>2</th>\n",
       "      <td>Female</td>\n",
       "      <td>26</td>\n",
       "      <td>43000</td>\n",
       "      <td>0</td>\n",
       "    </tr>\n",
       "    <tr>\n",
       "      <th>3</th>\n",
       "      <td>Female</td>\n",
       "      <td>27</td>\n",
       "      <td>57000</td>\n",
       "      <td>0</td>\n",
       "    </tr>\n",
       "    <tr>\n",
       "      <th>6</th>\n",
       "      <td>Female</td>\n",
       "      <td>27</td>\n",
       "      <td>84000</td>\n",
       "      <td>0</td>\n",
       "    </tr>\n",
       "    <tr>\n",
       "      <th>7</th>\n",
       "      <td>Female</td>\n",
       "      <td>32</td>\n",
       "      <td>150000</td>\n",
       "      <td>1</td>\n",
       "    </tr>\n",
       "    <tr>\n",
       "      <th>9</th>\n",
       "      <td>Female</td>\n",
       "      <td>35</td>\n",
       "      <td>65000</td>\n",
       "      <td>0</td>\n",
       "    </tr>\n",
       "    <tr>\n",
       "      <th>...</th>\n",
       "      <td>...</td>\n",
       "      <td>...</td>\n",
       "      <td>...</td>\n",
       "      <td>...</td>\n",
       "    </tr>\n",
       "    <tr>\n",
       "      <th>392</th>\n",
       "      <td>Female</td>\n",
       "      <td>45</td>\n",
       "      <td>45000</td>\n",
       "      <td>1</td>\n",
       "    </tr>\n",
       "    <tr>\n",
       "      <th>394</th>\n",
       "      <td>Female</td>\n",
       "      <td>39</td>\n",
       "      <td>59000</td>\n",
       "      <td>0</td>\n",
       "    </tr>\n",
       "    <tr>\n",
       "      <th>395</th>\n",
       "      <td>Female</td>\n",
       "      <td>46</td>\n",
       "      <td>41000</td>\n",
       "      <td>1</td>\n",
       "    </tr>\n",
       "    <tr>\n",
       "      <th>397</th>\n",
       "      <td>Female</td>\n",
       "      <td>50</td>\n",
       "      <td>20000</td>\n",
       "      <td>1</td>\n",
       "    </tr>\n",
       "    <tr>\n",
       "      <th>399</th>\n",
       "      <td>Female</td>\n",
       "      <td>49</td>\n",
       "      <td>36000</td>\n",
       "      <td>1</td>\n",
       "    </tr>\n",
       "  </tbody>\n",
       "</table>\n",
       "<p>204 rows × 4 columns</p>\n",
       "</div>"
      ],
      "text/plain": [
       "     Gender  Age  Salary  Purchase Iphone\n",
       "2    Female   26   43000                0\n",
       "3    Female   27   57000                0\n",
       "6    Female   27   84000                0\n",
       "7    Female   32  150000                1\n",
       "9    Female   35   65000                0\n",
       "..      ...  ...     ...              ...\n",
       "392  Female   45   45000                1\n",
       "394  Female   39   59000                0\n",
       "395  Female   46   41000                1\n",
       "397  Female   50   20000                1\n",
       "399  Female   49   36000                1\n",
       "\n",
       "[204 rows x 4 columns]"
      ]
     },
     "execution_count": 23,
     "metadata": {},
     "output_type": "execute_result"
    }
   ],
   "source": [
    "female = data[data['Gender']=='Female']\n",
    "female"
   ]
  },
  {
   "cell_type": "code",
   "execution_count": 24,
   "id": "a1891dd3",
   "metadata": {},
   "outputs": [
    {
     "data": {
      "text/html": [
       "<div>\n",
       "<style scoped>\n",
       "    .dataframe tbody tr th:only-of-type {\n",
       "        vertical-align: middle;\n",
       "    }\n",
       "\n",
       "    .dataframe tbody tr th {\n",
       "        vertical-align: top;\n",
       "    }\n",
       "\n",
       "    .dataframe thead th {\n",
       "        text-align: right;\n",
       "    }\n",
       "</style>\n",
       "<table border=\"1\" class=\"dataframe\">\n",
       "  <thead>\n",
       "    <tr style=\"text-align: right;\">\n",
       "      <th></th>\n",
       "      <th>Gender</th>\n",
       "      <th>Age</th>\n",
       "      <th>Salary</th>\n",
       "      <th>Purchase Iphone</th>\n",
       "    </tr>\n",
       "  </thead>\n",
       "  <tbody>\n",
       "    <tr>\n",
       "      <th>0</th>\n",
       "      <td>Male</td>\n",
       "      <td>19</td>\n",
       "      <td>19000</td>\n",
       "      <td>0</td>\n",
       "    </tr>\n",
       "    <tr>\n",
       "      <th>1</th>\n",
       "      <td>Male</td>\n",
       "      <td>35</td>\n",
       "      <td>20000</td>\n",
       "      <td>0</td>\n",
       "    </tr>\n",
       "    <tr>\n",
       "      <th>4</th>\n",
       "      <td>Male</td>\n",
       "      <td>19</td>\n",
       "      <td>76000</td>\n",
       "      <td>0</td>\n",
       "    </tr>\n",
       "    <tr>\n",
       "      <th>5</th>\n",
       "      <td>Male</td>\n",
       "      <td>27</td>\n",
       "      <td>58000</td>\n",
       "      <td>0</td>\n",
       "    </tr>\n",
       "    <tr>\n",
       "      <th>8</th>\n",
       "      <td>Male</td>\n",
       "      <td>25</td>\n",
       "      <td>33000</td>\n",
       "      <td>0</td>\n",
       "    </tr>\n",
       "    <tr>\n",
       "      <th>...</th>\n",
       "      <td>...</td>\n",
       "      <td>...</td>\n",
       "      <td>...</td>\n",
       "      <td>...</td>\n",
       "    </tr>\n",
       "    <tr>\n",
       "      <th>390</th>\n",
       "      <td>Male</td>\n",
       "      <td>48</td>\n",
       "      <td>33000</td>\n",
       "      <td>1</td>\n",
       "    </tr>\n",
       "    <tr>\n",
       "      <th>391</th>\n",
       "      <td>Male</td>\n",
       "      <td>47</td>\n",
       "      <td>23000</td>\n",
       "      <td>1</td>\n",
       "    </tr>\n",
       "    <tr>\n",
       "      <th>393</th>\n",
       "      <td>Male</td>\n",
       "      <td>60</td>\n",
       "      <td>42000</td>\n",
       "      <td>1</td>\n",
       "    </tr>\n",
       "    <tr>\n",
       "      <th>396</th>\n",
       "      <td>Male</td>\n",
       "      <td>51</td>\n",
       "      <td>23000</td>\n",
       "      <td>1</td>\n",
       "    </tr>\n",
       "    <tr>\n",
       "      <th>398</th>\n",
       "      <td>Male</td>\n",
       "      <td>36</td>\n",
       "      <td>33000</td>\n",
       "      <td>0</td>\n",
       "    </tr>\n",
       "  </tbody>\n",
       "</table>\n",
       "<p>196 rows × 4 columns</p>\n",
       "</div>"
      ],
      "text/plain": [
       "    Gender  Age  Salary  Purchase Iphone\n",
       "0     Male   19   19000                0\n",
       "1     Male   35   20000                0\n",
       "4     Male   19   76000                0\n",
       "5     Male   27   58000                0\n",
       "8     Male   25   33000                0\n",
       "..     ...  ...     ...              ...\n",
       "390   Male   48   33000                1\n",
       "391   Male   47   23000                1\n",
       "393   Male   60   42000                1\n",
       "396   Male   51   23000                1\n",
       "398   Male   36   33000                0\n",
       "\n",
       "[196 rows x 4 columns]"
      ]
     },
     "execution_count": 24,
     "metadata": {},
     "output_type": "execute_result"
    }
   ],
   "source": [
    "male = data[data['Gender']=='Male']\n",
    "male"
   ]
  },
  {
   "cell_type": "code",
   "execution_count": 25,
   "id": "838cc996",
   "metadata": {},
   "outputs": [
    {
     "data": {
      "text/html": [
       "<div>\n",
       "<style scoped>\n",
       "    .dataframe tbody tr th:only-of-type {\n",
       "        vertical-align: middle;\n",
       "    }\n",
       "\n",
       "    .dataframe tbody tr th {\n",
       "        vertical-align: top;\n",
       "    }\n",
       "\n",
       "    .dataframe thead th {\n",
       "        text-align: right;\n",
       "    }\n",
       "</style>\n",
       "<table border=\"1\" class=\"dataframe\">\n",
       "  <thead>\n",
       "    <tr style=\"text-align: right;\">\n",
       "      <th></th>\n",
       "      <th>Age</th>\n",
       "      <th>Salary</th>\n",
       "      <th>Purchase Iphone</th>\n",
       "    </tr>\n",
       "  </thead>\n",
       "  <tbody>\n",
       "    <tr>\n",
       "      <th>count</th>\n",
       "      <td>204.000000</td>\n",
       "      <td>204.000000</td>\n",
       "      <td>204.000000</td>\n",
       "    </tr>\n",
       "    <tr>\n",
       "      <th>mean</th>\n",
       "      <td>38.411765</td>\n",
       "      <td>71759.803922</td>\n",
       "      <td>0.377451</td>\n",
       "    </tr>\n",
       "    <tr>\n",
       "      <th>std</th>\n",
       "      <td>10.859019</td>\n",
       "      <td>35595.236189</td>\n",
       "      <td>0.485942</td>\n",
       "    </tr>\n",
       "    <tr>\n",
       "      <th>min</th>\n",
       "      <td>18.000000</td>\n",
       "      <td>15000.000000</td>\n",
       "      <td>0.000000</td>\n",
       "    </tr>\n",
       "    <tr>\n",
       "      <th>25%</th>\n",
       "      <td>30.000000</td>\n",
       "      <td>44000.000000</td>\n",
       "      <td>0.000000</td>\n",
       "    </tr>\n",
       "    <tr>\n",
       "      <th>50%</th>\n",
       "      <td>37.500000</td>\n",
       "      <td>70500.000000</td>\n",
       "      <td>0.000000</td>\n",
       "    </tr>\n",
       "    <tr>\n",
       "      <th>75%</th>\n",
       "      <td>47.000000</td>\n",
       "      <td>90750.000000</td>\n",
       "      <td>1.000000</td>\n",
       "    </tr>\n",
       "    <tr>\n",
       "      <th>max</th>\n",
       "      <td>60.000000</td>\n",
       "      <td>150000.000000</td>\n",
       "      <td>1.000000</td>\n",
       "    </tr>\n",
       "  </tbody>\n",
       "</table>\n",
       "</div>"
      ],
      "text/plain": [
       "              Age         Salary  Purchase Iphone\n",
       "count  204.000000     204.000000       204.000000\n",
       "mean    38.411765   71759.803922         0.377451\n",
       "std     10.859019   35595.236189         0.485942\n",
       "min     18.000000   15000.000000         0.000000\n",
       "25%     30.000000   44000.000000         0.000000\n",
       "50%     37.500000   70500.000000         0.000000\n",
       "75%     47.000000   90750.000000         1.000000\n",
       "max     60.000000  150000.000000         1.000000"
      ]
     },
     "execution_count": 25,
     "metadata": {},
     "output_type": "execute_result"
    }
   ],
   "source": [
    "female.describe()"
   ]
  },
  {
   "cell_type": "code",
   "execution_count": 26,
   "id": "bd47e29f",
   "metadata": {},
   "outputs": [
    {
     "data": {
      "text/html": [
       "<div>\n",
       "<style scoped>\n",
       "    .dataframe tbody tr th:only-of-type {\n",
       "        vertical-align: middle;\n",
       "    }\n",
       "\n",
       "    .dataframe tbody tr th {\n",
       "        vertical-align: top;\n",
       "    }\n",
       "\n",
       "    .dataframe thead th {\n",
       "        text-align: right;\n",
       "    }\n",
       "</style>\n",
       "<table border=\"1\" class=\"dataframe\">\n",
       "  <thead>\n",
       "    <tr style=\"text-align: right;\">\n",
       "      <th></th>\n",
       "      <th>Age</th>\n",
       "      <th>Salary</th>\n",
       "      <th>Purchase Iphone</th>\n",
       "    </tr>\n",
       "  </thead>\n",
       "  <tbody>\n",
       "    <tr>\n",
       "      <th>count</th>\n",
       "      <td>196.000000</td>\n",
       "      <td>196.000000</td>\n",
       "      <td>196.000000</td>\n",
       "    </tr>\n",
       "    <tr>\n",
       "      <th>mean</th>\n",
       "      <td>36.867347</td>\n",
       "      <td>67642.857143</td>\n",
       "      <td>0.336735</td>\n",
       "    </tr>\n",
       "    <tr>\n",
       "      <th>std</th>\n",
       "      <td>10.043636</td>\n",
       "      <td>32421.819181</td>\n",
       "      <td>0.473804</td>\n",
       "    </tr>\n",
       "    <tr>\n",
       "      <th>min</th>\n",
       "      <td>18.000000</td>\n",
       "      <td>15000.000000</td>\n",
       "      <td>0.000000</td>\n",
       "    </tr>\n",
       "    <tr>\n",
       "      <th>25%</th>\n",
       "      <td>29.000000</td>\n",
       "      <td>43000.000000</td>\n",
       "      <td>0.000000</td>\n",
       "    </tr>\n",
       "    <tr>\n",
       "      <th>50%</th>\n",
       "      <td>36.500000</td>\n",
       "      <td>68000.000000</td>\n",
       "      <td>0.000000</td>\n",
       "    </tr>\n",
       "    <tr>\n",
       "      <th>75%</th>\n",
       "      <td>42.000000</td>\n",
       "      <td>86000.000000</td>\n",
       "      <td>1.000000</td>\n",
       "    </tr>\n",
       "    <tr>\n",
       "      <th>max</th>\n",
       "      <td>60.000000</td>\n",
       "      <td>150000.000000</td>\n",
       "      <td>1.000000</td>\n",
       "    </tr>\n",
       "  </tbody>\n",
       "</table>\n",
       "</div>"
      ],
      "text/plain": [
       "              Age         Salary  Purchase Iphone\n",
       "count  196.000000     196.000000       196.000000\n",
       "mean    36.867347   67642.857143         0.336735\n",
       "std     10.043636   32421.819181         0.473804\n",
       "min     18.000000   15000.000000         0.000000\n",
       "25%     29.000000   43000.000000         0.000000\n",
       "50%     36.500000   68000.000000         0.000000\n",
       "75%     42.000000   86000.000000         1.000000\n",
       "max     60.000000  150000.000000         1.000000"
      ]
     },
     "execution_count": 26,
     "metadata": {},
     "output_type": "execute_result"
    }
   ],
   "source": [
    "male.describe()"
   ]
  },
  {
   "cell_type": "code",
   "execution_count": 27,
   "id": "c89946e5",
   "metadata": {},
   "outputs": [
    {
     "data": {
      "text/plain": [
       "0    127\n",
       "1     77\n",
       "Name: Purchase Iphone, dtype: int64"
      ]
     },
     "execution_count": 27,
     "metadata": {},
     "output_type": "execute_result"
    }
   ],
   "source": [
    "female['Purchase Iphone'].value_counts()"
   ]
  },
  {
   "cell_type": "code",
   "execution_count": 28,
   "id": "ddf16468",
   "metadata": {},
   "outputs": [
    {
     "data": {
      "text/plain": [
       "37.745098039215684"
      ]
     },
     "execution_count": 28,
     "metadata": {},
     "output_type": "execute_result"
    }
   ],
   "source": [
    "## in percantage\n",
    "(77*100)/204"
   ]
  },
  {
   "cell_type": "code",
   "execution_count": 29,
   "id": "f66c36a3",
   "metadata": {},
   "outputs": [
    {
     "data": {
      "text/plain": [
       "0    130\n",
       "1     66\n",
       "Name: Purchase Iphone, dtype: int64"
      ]
     },
     "execution_count": 29,
     "metadata": {},
     "output_type": "execute_result"
    }
   ],
   "source": [
    "male['Purchase Iphone'].value_counts()"
   ]
  },
  {
   "cell_type": "code",
   "execution_count": 30,
   "id": "ccb9292d",
   "metadata": {},
   "outputs": [
    {
     "data": {
      "text/plain": [
       "33.673469387755105"
      ]
     },
     "execution_count": 30,
     "metadata": {},
     "output_type": "execute_result"
    }
   ],
   "source": [
    "(66*100)/196"
   ]
  },
  {
   "cell_type": "code",
   "execution_count": 31,
   "id": "f2f15943",
   "metadata": {},
   "outputs": [
    {
     "data": {
      "text/plain": [
       "array([26, 27, 32, 35, 48, 47, 45, 21, 28, 33, 31, 24, 18, 29, 23, 59, 22,\n",
       "       20, 30, 19, 38, 39, 37, 36, 40, 41, 34, 58, 55, 52, 46, 60, 42, 53,\n",
       "       50, 56, 51, 57, 44, 43, 49, 54], dtype=int64)"
      ]
     },
     "execution_count": 31,
     "metadata": {},
     "output_type": "execute_result"
    }
   ],
   "source": [
    "female['Age'].unique()"
   ]
  },
  {
   "cell_type": "code",
   "execution_count": 32,
   "id": "e66de53b",
   "metadata": {},
   "outputs": [
    {
     "data": {
      "text/plain": [
       "array([19, 35, 27, 25, 20, 32, 18, 29, 47, 45, 46, 48, 49, 31, 30, 23, 28,\n",
       "       22, 24, 34, 39, 26, 21, 38, 37, 42, 40, 36, 41, 33, 52, 59, 60, 56,\n",
       "       57, 55, 58, 53, 54, 43, 51], dtype=int64)"
      ]
     },
     "execution_count": 32,
     "metadata": {},
     "output_type": "execute_result"
    }
   ],
   "source": [
    "male['Age'].unique()"
   ]
  },
  {
   "cell_type": "markdown",
   "id": "08d7bc2b",
   "metadata": {},
   "source": [
    "## KNN"
   ]
  },
  {
   "cell_type": "markdown",
   "id": "d8e17b53",
   "metadata": {},
   "source": [
    "### 1st model"
   ]
  },
  {
   "cell_type": "code",
   "execution_count": 33,
   "id": "b1db769c",
   "metadata": {},
   "outputs": [
    {
     "data": {
      "text/plain": [
       "Index(['Gender', 'Age', 'Salary', 'Purchase Iphone'], dtype='object')"
      ]
     },
     "execution_count": 33,
     "metadata": {},
     "output_type": "execute_result"
    }
   ],
   "source": [
    "data.columns"
   ]
  },
  {
   "cell_type": "code",
   "execution_count": 34,
   "id": "acacb690",
   "metadata": {},
   "outputs": [],
   "source": [
    "x = data[['Age', 'Salary']]\n",
    "y = data[['Purchase Iphone']]"
   ]
  },
  {
   "cell_type": "code",
   "execution_count": 41,
   "id": "c63f9535",
   "metadata": {},
   "outputs": [
    {
     "name": "stdout",
     "output_type": "stream",
     "text": [
      "k= 1 [0.995]\n",
      "k= 2 [0.995, 0.9025]\n",
      "k= 3 [0.995, 0.9025, 0.895]\n",
      "k= 4 [0.995, 0.9025, 0.895, 0.8625]\n",
      "k= 5 [0.995, 0.9025, 0.895, 0.8625, 0.8725]\n",
      "k= 6 [0.995, 0.9025, 0.895, 0.8625, 0.8725, 0.8625]\n",
      "k= 7 [0.995, 0.9025, 0.895, 0.8625, 0.8725, 0.8625, 0.87]\n",
      "k= 8 [0.995, 0.9025, 0.895, 0.8625, 0.8725, 0.8625, 0.87, 0.8475]\n",
      "k= 9 [0.995, 0.9025, 0.895, 0.8625, 0.8725, 0.8625, 0.87, 0.8475, 0.87]\n",
      "k= 10 [0.995, 0.9025, 0.895, 0.8625, 0.8725, 0.8625, 0.87, 0.8475, 0.87, 0.845]\n",
      "k= 11 [0.995, 0.9025, 0.895, 0.8625, 0.8725, 0.8625, 0.87, 0.8475, 0.87, 0.845, 0.8325]\n",
      "k= 12 [0.995, 0.9025, 0.895, 0.8625, 0.8725, 0.8625, 0.87, 0.8475, 0.87, 0.845, 0.8325, 0.825]\n",
      "k= 13 [0.995, 0.9025, 0.895, 0.8625, 0.8725, 0.8625, 0.87, 0.8475, 0.87, 0.845, 0.8325, 0.825, 0.845]\n",
      "k= 14 [0.995, 0.9025, 0.895, 0.8625, 0.8725, 0.8625, 0.87, 0.8475, 0.87, 0.845, 0.8325, 0.825, 0.845, 0.845]\n",
      "k= 15 [0.995, 0.9025, 0.895, 0.8625, 0.8725, 0.8625, 0.87, 0.8475, 0.87, 0.845, 0.8325, 0.825, 0.845, 0.845, 0.835]\n",
      "k= 16 [0.995, 0.9025, 0.895, 0.8625, 0.8725, 0.8625, 0.87, 0.8475, 0.87, 0.845, 0.8325, 0.825, 0.845, 0.845, 0.835, 0.8325]\n",
      "k= 17 [0.995, 0.9025, 0.895, 0.8625, 0.8725, 0.8625, 0.87, 0.8475, 0.87, 0.845, 0.8325, 0.825, 0.845, 0.845, 0.835, 0.8325, 0.83]\n",
      "k= 18 [0.995, 0.9025, 0.895, 0.8625, 0.8725, 0.8625, 0.87, 0.8475, 0.87, 0.845, 0.8325, 0.825, 0.845, 0.845, 0.835, 0.8325, 0.83, 0.815]\n",
      "k= 19 [0.995, 0.9025, 0.895, 0.8625, 0.8725, 0.8625, 0.87, 0.8475, 0.87, 0.845, 0.8325, 0.825, 0.845, 0.845, 0.835, 0.8325, 0.83, 0.815, 0.805]\n",
      "k= 20 [0.995, 0.9025, 0.895, 0.8625, 0.8725, 0.8625, 0.87, 0.8475, 0.87, 0.845, 0.8325, 0.825, 0.845, 0.845, 0.835, 0.8325, 0.83, 0.815, 0.805, 0.8175]\n"
     ]
    }
   ],
   "source": [
    "acc=[]\n",
    "for i in range(1,21):\n",
    "    knn=sn.KNeighborsClassifier(n_neighbors=i)\n",
    "    model= knn.fit(x,y)\n",
    "    pred_y = model.predict(x)\n",
    "    acc.append(sm.accuracy_score(pred_y,y))\n",
    "    print('k=',i,acc)"
   ]
  },
  {
   "cell_type": "code",
   "execution_count": 42,
   "id": "dfa59698",
   "metadata": {},
   "outputs": [],
   "source": [
    "max(acc)\n",
    "0.995\n",
    "k=acc.index(max(acc))+1\n",
    "k\n",
    "1\n",
    "knn=sn.KNeighborsClassifier(n_neighbors=1)\n",
    "model= knn.fit(x,y)"
   ]
  },
  {
   "cell_type": "code",
   "execution_count": 43,
   "id": "65d2893f",
   "metadata": {},
   "outputs": [
    {
     "data": {
      "text/plain": [
       "[<matplotlib.lines.Line2D at 0x26d25816be0>]"
      ]
     },
     "execution_count": 43,
     "metadata": {},
     "output_type": "execute_result"
    },
    {
     "data": {
      "image/png": "[encoded data removed]",
      "text/plain": [
       "<Figure size 432x288 with 1 Axes>"
      ]
     },
     "metadata": {
      "needs_background": "light"
     },
     "output_type": "display_data"
    }
   ],
   "source": [
    "plt.plot(range(1,21),acc)"
   ]
  },
  {
   "cell_type": "markdown",
   "id": "b244bf46",
   "metadata": {},
   "source": [
    "### 2nd model"
   ]
  },
  {
   "cell_type": "code",
   "execution_count": 44,
   "id": "6c81221a",
   "metadata": {},
   "outputs": [
    {
     "data": {
      "text/plain": [
       "Gender\n",
       "Female    0.377451\n",
       "Male      0.336735\n",
       "Name: Purchase Iphone, dtype: float64"
      ]
     },
     "execution_count": 44,
     "metadata": {},
     "output_type": "execute_result"
    }
   ],
   "source": [
    "m=data.groupby('Gender')['Purchase Iphone'].mean()\n",
    "m"
   ]
  },
  {
   "cell_type": "code",
   "execution_count": 45,
   "id": "2dff87f1",
   "metadata": {},
   "outputs": [
    {
     "data": {
      "text/plain": [
       "0.7141856742697079"
      ]
     },
     "execution_count": 45,
     "metadata": {},
     "output_type": "execute_result"
    }
   ],
   "source": [
    "q=m.sum()\n",
    "q"
   ]
  },
  {
   "cell_type": "code",
   "execution_count": 46,
   "id": "9262a51c",
   "metadata": {},
   "outputs": [
    {
     "data": {
      "text/plain": [
       "Gender\n",
       "Female    52.850539\n",
       "Male      47.149461\n",
       "Name: Purchase Iphone, dtype: float64"
      ]
     },
     "execution_count": 46,
     "metadata": {},
     "output_type": "execute_result"
    }
   ],
   "source": [
    "(m/q)*100"
   ]
  },
  {
   "cell_type": "code",
   "execution_count": 47,
   "id": "ebc00c81",
   "metadata": {},
   "outputs": [],
   "source": [
    "d = {'Female':52.850539,'Male':47.149461}\n",
    "data['gm']=data['Gender'].map(d)\n",
    "x = data[['Age', 'Salary','gm']]\n",
    "y = data[['Purchase Iphone']]"
   ]
  },
  {
   "cell_type": "code",
   "execution_count": 48,
   "id": "341cabad",
   "metadata": {},
   "outputs": [
    {
     "name": "stdout",
     "output_type": "stream",
     "text": [
      "k= 1 [0.9975]\n",
      "k= 2 [0.9975, 0.9]\n",
      "k= 3 [0.9975, 0.9, 0.8975]\n",
      "k= 4 [0.9975, 0.9, 0.8975, 0.8625]\n",
      "k= 5 [0.9975, 0.9, 0.8975, 0.8625, 0.875]\n",
      "k= 6 [0.9975, 0.9, 0.8975, 0.8625, 0.875, 0.8625]\n",
      "k= 7 [0.9975, 0.9, 0.8975, 0.8625, 0.875, 0.8625, 0.87]\n",
      "k= 8 [0.9975, 0.9, 0.8975, 0.8625, 0.875, 0.8625, 0.87, 0.855]\n",
      "k= 9 [0.9975, 0.9, 0.8975, 0.8625, 0.875, 0.8625, 0.87, 0.855, 0.865]\n",
      "k= 10 [0.9975, 0.9, 0.8975, 0.8625, 0.875, 0.8625, 0.87, 0.855, 0.865, 0.845]\n",
      "k= 11 [0.9975, 0.9, 0.8975, 0.8625, 0.875, 0.8625, 0.87, 0.855, 0.865, 0.845, 0.8325]\n",
      "k= 12 [0.9975, 0.9, 0.8975, 0.8625, 0.875, 0.8625, 0.87, 0.855, 0.865, 0.845, 0.8325, 0.8275]\n",
      "k= 13 [0.9975, 0.9, 0.8975, 0.8625, 0.875, 0.8625, 0.87, 0.855, 0.865, 0.845, 0.8325, 0.8275, 0.8425]\n",
      "k= 14 [0.9975, 0.9, 0.8975, 0.8625, 0.875, 0.8625, 0.87, 0.855, 0.865, 0.845, 0.8325, 0.8275, 0.8425, 0.845]\n",
      "k= 15 [0.9975, 0.9, 0.8975, 0.8625, 0.875, 0.8625, 0.87, 0.855, 0.865, 0.845, 0.8325, 0.8275, 0.8425, 0.845, 0.8375]\n",
      "k= 16 [0.9975, 0.9, 0.8975, 0.8625, 0.875, 0.8625, 0.87, 0.855, 0.865, 0.845, 0.8325, 0.8275, 0.8425, 0.845, 0.8375, 0.8325]\n",
      "k= 17 [0.9975, 0.9, 0.8975, 0.8625, 0.875, 0.8625, 0.87, 0.855, 0.865, 0.845, 0.8325, 0.8275, 0.8425, 0.845, 0.8375, 0.8325, 0.83]\n",
      "k= 18 [0.9975, 0.9, 0.8975, 0.8625, 0.875, 0.8625, 0.87, 0.855, 0.865, 0.845, 0.8325, 0.8275, 0.8425, 0.845, 0.8375, 0.8325, 0.83, 0.815]\n",
      "k= 19 [0.9975, 0.9, 0.8975, 0.8625, 0.875, 0.8625, 0.87, 0.855, 0.865, 0.845, 0.8325, 0.8275, 0.8425, 0.845, 0.8375, 0.8325, 0.83, 0.815, 0.805]\n"
     ]
    }
   ],
   "source": [
    "acc=[]\n",
    "for i in range(1,20):\n",
    "    knn=sn.KNeighborsClassifier(n_neighbors=i)\n",
    "    model= knn.fit(x,y)\n",
    "    pred_y = model.predict(x)\n",
    "    acc.append(sm.accuracy_score(pred_y,y))\n",
    "    print('k=',i,acc)"
   ]
  },
  {
   "cell_type": "code",
   "execution_count": 49,
   "id": "1e8e768d",
   "metadata": {},
   "outputs": [],
   "source": [
    "max(acc)\n",
    "0.9975\n",
    "k=acc.index(max(acc))+1\n",
    "k\n",
    "1\n",
    "knn=sn.KNeighborsClassifier(n_neighbors=1)\n",
    "model= knn.fit(x,y)"
   ]
  },
  {
   "cell_type": "code",
   "execution_count": 50,
   "id": "efe66f7f",
   "metadata": {},
   "outputs": [
    {
     "data": {
      "text/plain": [
       "[<matplotlib.lines.Line2D at 0x26d238fdfd0>]"
      ]
     },
     "execution_count": 50,
     "metadata": {},
     "output_type": "execute_result"
    },
    {
     "data": {
      "image/png": "[encoded data removed]",
      "text/plain": [
       "<Figure size 432x288 with 1 Axes>"
      ]
     },
     "metadata": {
      "needs_background": "light"
     },
     "output_type": "display_data"
    }
   ],
   "source": [
    "plt.plot(range(1,20),acc)"
   ]
  },
  {
   "cell_type": "markdown",
   "id": "40fbc1e1",
   "metadata": {},
   "source": [
    "* 2nd Model more accurate than 1st Model because accuracy score of 2nd Model is closer to 1 for k=1"
   ]
  },
  {
   "cell_type": "markdown",
   "id": "c90f14c2",
   "metadata": {},
   "source": [
    "### Gender - wise Model"
   ]
  },
  {
   "cell_type": "markdown",
   "id": "32f65a0c",
   "metadata": {},
   "source": [
    "### Female"
   ]
  },
  {
   "cell_type": "code",
   "execution_count": 51,
   "id": "0eedf476",
   "metadata": {},
   "outputs": [
    {
     "data": {
      "text/html": [
       "<div>\n",
       "<style scoped>\n",
       "    .dataframe tbody tr th:only-of-type {\n",
       "        vertical-align: middle;\n",
       "    }\n",
       "\n",
       "    .dataframe tbody tr th {\n",
       "        vertical-align: top;\n",
       "    }\n",
       "\n",
       "    .dataframe thead th {\n",
       "        text-align: right;\n",
       "    }\n",
       "</style>\n",
       "<table border=\"1\" class=\"dataframe\">\n",
       "  <thead>\n",
       "    <tr style=\"text-align: right;\">\n",
       "      <th></th>\n",
       "      <th>Gender</th>\n",
       "      <th>Age</th>\n",
       "      <th>Salary</th>\n",
       "      <th>Purchase Iphone</th>\n",
       "    </tr>\n",
       "  </thead>\n",
       "  <tbody>\n",
       "    <tr>\n",
       "      <th>2</th>\n",
       "      <td>Female</td>\n",
       "      <td>26</td>\n",
       "      <td>43000</td>\n",
       "      <td>0</td>\n",
       "    </tr>\n",
       "    <tr>\n",
       "      <th>3</th>\n",
       "      <td>Female</td>\n",
       "      <td>27</td>\n",
       "      <td>57000</td>\n",
       "      <td>0</td>\n",
       "    </tr>\n",
       "    <tr>\n",
       "      <th>6</th>\n",
       "      <td>Female</td>\n",
       "      <td>27</td>\n",
       "      <td>84000</td>\n",
       "      <td>0</td>\n",
       "    </tr>\n",
       "    <tr>\n",
       "      <th>7</th>\n",
       "      <td>Female</td>\n",
       "      <td>32</td>\n",
       "      <td>150000</td>\n",
       "      <td>1</td>\n",
       "    </tr>\n",
       "    <tr>\n",
       "      <th>9</th>\n",
       "      <td>Female</td>\n",
       "      <td>35</td>\n",
       "      <td>65000</td>\n",
       "      <td>0</td>\n",
       "    </tr>\n",
       "    <tr>\n",
       "      <th>...</th>\n",
       "      <td>...</td>\n",
       "      <td>...</td>\n",
       "      <td>...</td>\n",
       "      <td>...</td>\n",
       "    </tr>\n",
       "    <tr>\n",
       "      <th>392</th>\n",
       "      <td>Female</td>\n",
       "      <td>45</td>\n",
       "      <td>45000</td>\n",
       "      <td>1</td>\n",
       "    </tr>\n",
       "    <tr>\n",
       "      <th>394</th>\n",
       "      <td>Female</td>\n",
       "      <td>39</td>\n",
       "      <td>59000</td>\n",
       "      <td>0</td>\n",
       "    </tr>\n",
       "    <tr>\n",
       "      <th>395</th>\n",
       "      <td>Female</td>\n",
       "      <td>46</td>\n",
       "      <td>41000</td>\n",
       "      <td>1</td>\n",
       "    </tr>\n",
       "    <tr>\n",
       "      <th>397</th>\n",
       "      <td>Female</td>\n",
       "      <td>50</td>\n",
       "      <td>20000</td>\n",
       "      <td>1</td>\n",
       "    </tr>\n",
       "    <tr>\n",
       "      <th>399</th>\n",
       "      <td>Female</td>\n",
       "      <td>49</td>\n",
       "      <td>36000</td>\n",
       "      <td>1</td>\n",
       "    </tr>\n",
       "  </tbody>\n",
       "</table>\n",
       "<p>204 rows × 4 columns</p>\n",
       "</div>"
      ],
      "text/plain": [
       "     Gender  Age  Salary  Purchase Iphone\n",
       "2    Female   26   43000                0\n",
       "3    Female   27   57000                0\n",
       "6    Female   27   84000                0\n",
       "7    Female   32  150000                1\n",
       "9    Female   35   65000                0\n",
       "..      ...  ...     ...              ...\n",
       "392  Female   45   45000                1\n",
       "394  Female   39   59000                0\n",
       "395  Female   46   41000                1\n",
       "397  Female   50   20000                1\n",
       "399  Female   49   36000                1\n",
       "\n",
       "[204 rows x 4 columns]"
      ]
     },
     "execution_count": 51,
     "metadata": {},
     "output_type": "execute_result"
    }
   ],
   "source": [
    "female"
   ]
  },
  {
   "cell_type": "code",
   "execution_count": 52,
   "id": "53dade26",
   "metadata": {},
   "outputs": [],
   "source": [
    "x = female[['Age', 'Salary']]\n",
    "y = female[['Purchase Iphone']]"
   ]
  },
  {
   "cell_type": "code",
   "execution_count": 53,
   "id": "dd126b07",
   "metadata": {},
   "outputs": [
    {
     "name": "stdout",
     "output_type": "stream",
     "text": [
      "k= 1 [0.9950980392156863]\n",
      "k= 2 [0.9950980392156863, 0.8774509803921569]\n",
      "k= 3 [0.9950980392156863, 0.8774509803921569, 0.8676470588235294]\n",
      "k= 4 [0.9950980392156863, 0.8774509803921569, 0.8676470588235294, 0.8480392156862745]\n",
      "k= 5 [0.9950980392156863, 0.8774509803921569, 0.8676470588235294, 0.8480392156862745, 0.8431372549019608]\n",
      "k= 6 [0.9950980392156863, 0.8774509803921569, 0.8676470588235294, 0.8480392156862745, 0.8431372549019608, 0.8235294117647058]\n",
      "k= 7 [0.9950980392156863, 0.8774509803921569, 0.8676470588235294, 0.8480392156862745, 0.8431372549019608, 0.8235294117647058, 0.8529411764705882]\n",
      "k= 8 [0.9950980392156863, 0.8774509803921569, 0.8676470588235294, 0.8480392156862745, 0.8431372549019608, 0.8235294117647058, 0.8529411764705882, 0.8333333333333334]\n",
      "k= 9 [0.9950980392156863, 0.8774509803921569, 0.8676470588235294, 0.8480392156862745, 0.8431372549019608, 0.8235294117647058, 0.8529411764705882, 0.8333333333333334, 0.8186274509803921]\n",
      "k= 10 [0.9950980392156863, 0.8774509803921569, 0.8676470588235294, 0.8480392156862745, 0.8431372549019608, 0.8235294117647058, 0.8529411764705882, 0.8333333333333334, 0.8186274509803921, 0.7990196078431373]\n",
      "k= 11 [0.9950980392156863, 0.8774509803921569, 0.8676470588235294, 0.8480392156862745, 0.8431372549019608, 0.8235294117647058, 0.8529411764705882, 0.8333333333333334, 0.8186274509803921, 0.7990196078431373, 0.8235294117647058]\n",
      "k= 12 [0.9950980392156863, 0.8774509803921569, 0.8676470588235294, 0.8480392156862745, 0.8431372549019608, 0.8235294117647058, 0.8529411764705882, 0.8333333333333334, 0.8186274509803921, 0.7990196078431373, 0.8235294117647058, 0.8235294117647058]\n",
      "k= 13 [0.9950980392156863, 0.8774509803921569, 0.8676470588235294, 0.8480392156862745, 0.8431372549019608, 0.8235294117647058, 0.8529411764705882, 0.8333333333333334, 0.8186274509803921, 0.7990196078431373, 0.8235294117647058, 0.8235294117647058, 0.7990196078431373]\n",
      "k= 14 [0.9950980392156863, 0.8774509803921569, 0.8676470588235294, 0.8480392156862745, 0.8431372549019608, 0.8235294117647058, 0.8529411764705882, 0.8333333333333334, 0.8186274509803921, 0.7990196078431373, 0.8235294117647058, 0.8235294117647058, 0.7990196078431373, 0.7990196078431373]\n",
      "k= 15 [0.9950980392156863, 0.8774509803921569, 0.8676470588235294, 0.8480392156862745, 0.8431372549019608, 0.8235294117647058, 0.8529411764705882, 0.8333333333333334, 0.8186274509803921, 0.7990196078431373, 0.8235294117647058, 0.8235294117647058, 0.7990196078431373, 0.7990196078431373, 0.7990196078431373]\n",
      "k= 16 [0.9950980392156863, 0.8774509803921569, 0.8676470588235294, 0.8480392156862745, 0.8431372549019608, 0.8235294117647058, 0.8529411764705882, 0.8333333333333334, 0.8186274509803921, 0.7990196078431373, 0.8235294117647058, 0.8235294117647058, 0.7990196078431373, 0.7990196078431373, 0.7990196078431373, 0.8137254901960784]\n",
      "k= 17 [0.9950980392156863, 0.8774509803921569, 0.8676470588235294, 0.8480392156862745, 0.8431372549019608, 0.8235294117647058, 0.8529411764705882, 0.8333333333333334, 0.8186274509803921, 0.7990196078431373, 0.8235294117647058, 0.8235294117647058, 0.7990196078431373, 0.7990196078431373, 0.7990196078431373, 0.8137254901960784, 0.7990196078431373]\n",
      "k= 18 [0.9950980392156863, 0.8774509803921569, 0.8676470588235294, 0.8480392156862745, 0.8431372549019608, 0.8235294117647058, 0.8529411764705882, 0.8333333333333334, 0.8186274509803921, 0.7990196078431373, 0.8235294117647058, 0.8235294117647058, 0.7990196078431373, 0.7990196078431373, 0.7990196078431373, 0.8137254901960784, 0.7990196078431373, 0.7990196078431373]\n",
      "k= 19 [0.9950980392156863, 0.8774509803921569, 0.8676470588235294, 0.8480392156862745, 0.8431372549019608, 0.8235294117647058, 0.8529411764705882, 0.8333333333333334, 0.8186274509803921, 0.7990196078431373, 0.8235294117647058, 0.8235294117647058, 0.7990196078431373, 0.7990196078431373, 0.7990196078431373, 0.8137254901960784, 0.7990196078431373, 0.7990196078431373, 0.7892156862745098]\n",
      "k= 20 [0.9950980392156863, 0.8774509803921569, 0.8676470588235294, 0.8480392156862745, 0.8431372549019608, 0.8235294117647058, 0.8529411764705882, 0.8333333333333334, 0.8186274509803921, 0.7990196078431373, 0.8235294117647058, 0.8235294117647058, 0.7990196078431373, 0.7990196078431373, 0.7990196078431373, 0.8137254901960784, 0.7990196078431373, 0.7990196078431373, 0.7892156862745098, 0.7941176470588235]\n"
     ]
    }
   ],
   "source": [
    "acc = []\n",
    "for i in range(1,21):\n",
    "    knn=sn.KNeighborsClassifier(n_neighbors=i)\n",
    "    model=knn.fit(x,y)\n",
    "    predy=model.predict(x)\n",
    "    acc.append(sm.accuracy_score(predy,y))\n",
    "    print('k=',i,acc)"
   ]
  },
  {
   "cell_type": "code",
   "execution_count": 54,
   "id": "6694ba6c",
   "metadata": {},
   "outputs": [],
   "source": [
    "max(acc)\n",
    "0.9950980392156863\n",
    "k = acc.index(max(acc))+1\n",
    "k\n",
    "1\n",
    "knn=sn.KNeighborsClassifier(n_neighbors=1)\n",
    "model=knn.fit(x,y)"
   ]
  },
  {
   "cell_type": "code",
   "execution_count": 55,
   "id": "db96d325",
   "metadata": {},
   "outputs": [
    {
     "data": {
      "text/plain": [
       "[<matplotlib.lines.Line2D at 0x26d25977e80>]"
      ]
     },
     "execution_count": 55,
     "metadata": {},
     "output_type": "execute_result"
    },
    {
     "data": {
      "image/png": "[encoded data removed]",
      "text/plain": [
       "<Figure size 432x288 with 1 Axes>"
      ]
     },
     "metadata": {
      "needs_background": "light"
     },
     "output_type": "display_data"
    }
   ],
   "source": [
    "plt.plot(range(1,21),acc)"
   ]
  },
  {
   "cell_type": "markdown",
   "id": "edf0ca53",
   "metadata": {},
   "source": [
    "### Male"
   ]
  },
  {
   "cell_type": "code",
   "execution_count": 56,
   "id": "4c4860e6",
   "metadata": {},
   "outputs": [],
   "source": [
    "x = male[['Age', 'Salary']]\n",
    "y = male[['Purchase Iphone']]"
   ]
  },
  {
   "cell_type": "code",
   "execution_count": 57,
   "id": "dd78bbe8",
   "metadata": {},
   "outputs": [
    {
     "name": "stdout",
     "output_type": "stream",
     "text": [
      "k= 1 [1.0]\n",
      "k= 2 [1.0, 0.8979591836734694]\n",
      "k= 3 [1.0, 0.8979591836734694, 0.8673469387755102]\n",
      "k= 4 [1.0, 0.8979591836734694, 0.8673469387755102, 0.826530612244898]\n",
      "k= 5 [1.0, 0.8979591836734694, 0.8673469387755102, 0.826530612244898, 0.8826530612244898]\n",
      "k= 6 [1.0, 0.8979591836734694, 0.8673469387755102, 0.826530612244898, 0.8826530612244898, 0.8571428571428571]\n",
      "k= 7 [1.0, 0.8979591836734694, 0.8673469387755102, 0.826530612244898, 0.8826530612244898, 0.8571428571428571, 0.8622448979591837]\n",
      "k= 8 [1.0, 0.8979591836734694, 0.8673469387755102, 0.826530612244898, 0.8826530612244898, 0.8571428571428571, 0.8622448979591837, 0.8469387755102041]\n",
      "k= 9 [1.0, 0.8979591836734694, 0.8673469387755102, 0.826530612244898, 0.8826530612244898, 0.8571428571428571, 0.8622448979591837, 0.8469387755102041, 0.826530612244898]\n",
      "k= 10 [1.0, 0.8979591836734694, 0.8673469387755102, 0.826530612244898, 0.8826530612244898, 0.8571428571428571, 0.8622448979591837, 0.8469387755102041, 0.826530612244898, 0.8214285714285714]\n",
      "k= 11 [1.0, 0.8979591836734694, 0.8673469387755102, 0.826530612244898, 0.8826530612244898, 0.8571428571428571, 0.8622448979591837, 0.8469387755102041, 0.826530612244898, 0.8214285714285714, 0.8163265306122449]\n",
      "k= 12 [1.0, 0.8979591836734694, 0.8673469387755102, 0.826530612244898, 0.8826530612244898, 0.8571428571428571, 0.8622448979591837, 0.8469387755102041, 0.826530612244898, 0.8214285714285714, 0.8163265306122449, 0.8061224489795918]\n",
      "k= 13 [1.0, 0.8979591836734694, 0.8673469387755102, 0.826530612244898, 0.8826530612244898, 0.8571428571428571, 0.8622448979591837, 0.8469387755102041, 0.826530612244898, 0.8214285714285714, 0.8163265306122449, 0.8061224489795918, 0.8214285714285714]\n",
      "k= 14 [1.0, 0.8979591836734694, 0.8673469387755102, 0.826530612244898, 0.8826530612244898, 0.8571428571428571, 0.8622448979591837, 0.8469387755102041, 0.826530612244898, 0.8214285714285714, 0.8163265306122449, 0.8061224489795918, 0.8214285714285714, 0.8061224489795918]\n",
      "k= 15 [1.0, 0.8979591836734694, 0.8673469387755102, 0.826530612244898, 0.8826530612244898, 0.8571428571428571, 0.8622448979591837, 0.8469387755102041, 0.826530612244898, 0.8214285714285714, 0.8163265306122449, 0.8061224489795918, 0.8214285714285714, 0.8061224489795918, 0.7908163265306123]\n",
      "k= 16 [1.0, 0.8979591836734694, 0.8673469387755102, 0.826530612244898, 0.8826530612244898, 0.8571428571428571, 0.8622448979591837, 0.8469387755102041, 0.826530612244898, 0.8214285714285714, 0.8163265306122449, 0.8061224489795918, 0.8214285714285714, 0.8061224489795918, 0.7908163265306123, 0.8163265306122449]\n",
      "k= 17 [1.0, 0.8979591836734694, 0.8673469387755102, 0.826530612244898, 0.8826530612244898, 0.8571428571428571, 0.8622448979591837, 0.8469387755102041, 0.826530612244898, 0.8214285714285714, 0.8163265306122449, 0.8061224489795918, 0.8214285714285714, 0.8061224489795918, 0.7908163265306123, 0.8163265306122449, 0.8163265306122449]\n",
      "k= 18 [1.0, 0.8979591836734694, 0.8673469387755102, 0.826530612244898, 0.8826530612244898, 0.8571428571428571, 0.8622448979591837, 0.8469387755102041, 0.826530612244898, 0.8214285714285714, 0.8163265306122449, 0.8061224489795918, 0.8214285714285714, 0.8061224489795918, 0.7908163265306123, 0.8163265306122449, 0.8163265306122449, 0.8163265306122449]\n",
      "k= 19 [1.0, 0.8979591836734694, 0.8673469387755102, 0.826530612244898, 0.8826530612244898, 0.8571428571428571, 0.8622448979591837, 0.8469387755102041, 0.826530612244898, 0.8214285714285714, 0.8163265306122449, 0.8061224489795918, 0.8214285714285714, 0.8061224489795918, 0.7908163265306123, 0.8163265306122449, 0.8163265306122449, 0.8163265306122449, 0.8112244897959183]\n",
      "k= 20 [1.0, 0.8979591836734694, 0.8673469387755102, 0.826530612244898, 0.8826530612244898, 0.8571428571428571, 0.8622448979591837, 0.8469387755102041, 0.826530612244898, 0.8214285714285714, 0.8163265306122449, 0.8061224489795918, 0.8214285714285714, 0.8061224489795918, 0.7908163265306123, 0.8163265306122449, 0.8163265306122449, 0.8163265306122449, 0.8112244897959183, 0.826530612244898]\n"
     ]
    }
   ],
   "source": [
    "acc = []\n",
    "for i in range(1,21):\n",
    "    knn=sn.KNeighborsClassifier(n_neighbors=i)\n",
    "    model=knn.fit(x,y)\n",
    "    predy=model.predict(x)\n",
    "    acc.append(sm.accuracy_score(predy,y))\n",
    "    print('k=',i,acc)"
   ]
  },
  {
   "cell_type": "code",
   "execution_count": 58,
   "id": "b8af48ea",
   "metadata": {},
   "outputs": [],
   "source": [
    "max(acc)\n",
    "1.0\n",
    "k = acc.index(max(acc))+1\n",
    "k\n",
    "1\n",
    "knn=sn.KNeighborsClassifier(n_neighbors=1)\n",
    "model=knn.fit(x,y)"
   ]
  },
  {
   "cell_type": "code",
   "execution_count": 59,
   "id": "79c665ee",
   "metadata": {},
   "outputs": [
    {
     "data": {
      "text/plain": [
       "[<matplotlib.lines.Line2D at 0x26d259d0dc0>]"
      ]
     },
     "execution_count": 59,
     "metadata": {},
     "output_type": "execute_result"
    },
    {
     "data": {
      "image/png": "[encoded data removed]",
      "text/plain": [
       "<Figure size 432x288 with 1 Axes>"
      ]
     },
     "metadata": {
      "needs_background": "light"
     },
     "output_type": "display_data"
    }
   ],
   "source": [
    "plt.plot(range(1,21),acc)"
   ]
  },
  {
   "cell_type": "code",
   "execution_count": null,
   "id": "09ae613b",
   "metadata": {},
   "outputs": [],
   "source": []
  }
 ],
 "metadata": {
  "kernelspec": {
   "display_name": "Python 3",
   "language": "python",
   "name": "python3"
  },
  "language_info": {
   "codemirror_mode": {
    "name": "ipython",
    "version": 3
   },
   "file_extension": ".py",
   "mimetype": "text/x-python",
   "name": "python",
   "nbconvert_exporter": "python",
   "pygments_lexer": "ipython3",
   "version": "3.8.8"
  }
 },
 "nbformat": 4,
 "nbformat_minor": 5
}
